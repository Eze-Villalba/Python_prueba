{
 "cells": [
  {
   "cell_type": "code",
   "execution_count": 16,
   "metadata": {},
   "outputs": [
    {
     "name": "stdout",
     "output_type": "stream",
     "text": [
      "el numero 234 tiene 3 digitos\n"
     ]
    }
   ],
   "source": [
    "# Un programa que calcule cuantos digitos tiene un numero positivo\n",
    "\n",
    "def cuantos_digitos(a):\n",
    "    contador = 0\n",
    "\n",
    "    if a == 0:\n",
    "        contador = 1\n",
    "\n",
    "    else:\n",
    "\n",
    "        while a > 0:\n",
    "           contador +=1\n",
    "           a //=10\n",
    "    return contador       \n",
    "    \n",
    "a = int(input(\"ingrese el numero que desea contar los digitos\"))\n",
    "numero_de_digitos = cuantos_digitos(a)    \n",
    "\n",
    "print(f\"el numero {a} tiene {numero_de_digitos} digitos\")"
   ]
  }
 ],
 "metadata": {
  "kernelspec": {
   "display_name": "Python 3",
   "language": "python",
   "name": "python3"
  },
  "language_info": {
   "codemirror_mode": {
    "name": "ipython",
    "version": 3
   },
   "file_extension": ".py",
   "mimetype": "text/x-python",
   "name": "python",
   "nbconvert_exporter": "python",
   "pygments_lexer": "ipython3",
   "version": "3.11.5"
  },
  "orig_nbformat": 4
 },
 "nbformat": 4,
 "nbformat_minor": 2
}
