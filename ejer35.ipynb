{
 "cells": [
  {
   "cell_type": "code",
   "execution_count": 8,
   "metadata": {},
   "outputs": [
    {
     "name": "stdout",
     "output_type": "stream",
     "text": [
      "la nota promedio final de los estudiantes que reprobaron el curso es: 5.5\n",
      "Porcentaje de alumnos que tienen una nota de integrador mayor a 7.5: 50.0%\n",
      "La mayor nota obtenida en las exposiciones es: 7.0\n",
      "Total de estudiantes que obtuvieron en el Parcial entre 4.0 y 7.5: 2\n"
     ]
    }
   ],
   "source": [
    "cantidad_alumnos = int(input(\"Cuantos alumnos hay?\"))\n",
    "integrador = list()\n",
    "exposicion = list()\n",
    "parcial = list()\n",
    "nota_final = list()\n",
    "\n",
    "for n in range(cantidad_alumnos):\n",
    "\n",
    "    integrador.insert(n, float(input(f\"ingrese la nota del integrador nota del alumno {n}\")))\n",
    "    exposicion.insert(n, float(input(f\"ingrese la nota de la exposicion del alumno {n}\")))\n",
    "    parcial.insert(n, float(input(f\"ingrese la nota del parcial del alumno {n}\")))\n",
    "    final = integrador[n]*0.35 + exposicion[n]*0.25 + parcial[n]*0.4\n",
    "    nota_final.insert(n, final)\n",
    "\n",
    "reprobados = [x for x in nota_final if x < 6.5]\n",
    "prom_reprobados = sum(reprobados) / len(reprobados)\n",
    "integ_mayor = [v for v in integrador if v > 7.5]\n",
    "inte_mayor = (len (integ_mayor) / n)*100\n",
    "mayor_nota = max(exposicion)\n",
    "parcial_discriminado = [z for z in parcial if z < 7.5 and z > 4]\n",
    "total_parcial = len(parcial_discriminado)\n",
    "\n",
    "print(f\"la nota promedio final de los estudiantes que reprobaron el curso es: {prom_reprobados}\")\n",
    "print(f\"Porcentaje de alumnos que tienen una nota de integrador mayor a 7.5: {inte_mayor}%\")\n",
    "print(f\"La mayor nota obtenida en las exposiciones es: {mayor_nota}\")\n",
    "print(f\"Total de estudiantes que obtuvieron en el Parcial entre 4.0 y 7.5: {total_parcial}\")"
   ]
  },
  {
   "cell_type": "code",
   "execution_count": 9,
   "metadata": {},
   "outputs": [
    {
     "name": "stdout",
     "output_type": "stream",
     "text": [
      "[4.0, 4.0, 2.0, 9.0, 9.0]\n"
     ]
    }
   ],
   "source": [
    "print(integrador)"
   ]
  }
 ],
 "metadata": {
  "kernelspec": {
   "display_name": "Python 3",
   "language": "python",
   "name": "python3"
  },
  "language_info": {
   "codemirror_mode": {
    "name": "ipython",
    "version": 3
   },
   "file_extension": ".py",
   "mimetype": "text/x-python",
   "name": "python",
   "nbconvert_exporter": "python",
   "pygments_lexer": "ipython3",
   "version": "3.11.5"
  },
  "orig_nbformat": 4
 },
 "nbformat": 4,
 "nbformat_minor": 2
}
