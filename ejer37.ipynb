{
 "cells": [
  {
   "cell_type": "code",
   "execution_count": 3,
   "metadata": {},
   "outputs": [
    {
     "ename": "TypeError",
     "evalue": "'int' object is not iterable",
     "output_type": "error",
     "traceback": [
      "\u001b[1;31m---------------------------------------------------------------------------\u001b[0m",
      "\u001b[1;31mTypeError\u001b[0m                                 Traceback (most recent call last)",
      "\u001b[1;32me:\\Programando\\ejer37.ipynb Celda 1\u001b[0m line \u001b[0;36m1\n\u001b[0;32m      <a href='vscode-notebook-cell:/e%3A/Programando/ejer37.ipynb#W0sZmlsZQ%3D%3D?line=7'>8</a>\u001b[0m         fac\u001b[39m.\u001b[39minsert(x, y)\n\u001b[0;32m      <a href='vscode-notebook-cell:/e%3A/Programando/ejer37.ipynb#W0sZmlsZQ%3D%3D?line=8'>9</a>\u001b[0m         \u001b[39mreturn\u001b[39;00m fac\n\u001b[1;32m---> <a href='vscode-notebook-cell:/e%3A/Programando/ejer37.ipynb#W0sZmlsZQ%3D%3D?line=10'>11</a>\u001b[0m factores \u001b[39m=\u001b[39m factorial(\u001b[39m5\u001b[39;49m)\n\u001b[0;32m     <a href='vscode-notebook-cell:/e%3A/Programando/ejer37.ipynb#W0sZmlsZQ%3D%3D?line=11'>12</a>\u001b[0m \u001b[39mprint\u001b[39m(factores)\n",
      "\u001b[1;32me:\\Programando\\ejer37.ipynb Celda 1\u001b[0m line \u001b[0;36m5\n\u001b[0;32m      <a href='vscode-notebook-cell:/e%3A/Programando/ejer37.ipynb#W0sZmlsZQ%3D%3D?line=2'>3</a>\u001b[0m \u001b[39mdef\u001b[39;00m \u001b[39mfactorial\u001b[39m(a):\n\u001b[1;32m----> <a href='vscode-notebook-cell:/e%3A/Programando/ejer37.ipynb#W0sZmlsZQ%3D%3D?line=4'>5</a>\u001b[0m     \u001b[39mfor\u001b[39;00m x \u001b[39min\u001b[39;00m a:\n\u001b[0;32m      <a href='vscode-notebook-cell:/e%3A/Programando/ejer37.ipynb#W0sZmlsZQ%3D%3D?line=6'>7</a>\u001b[0m         y \u001b[39m*\u001b[39m\u001b[39m=\u001b[39m x\n\u001b[0;32m      <a href='vscode-notebook-cell:/e%3A/Programando/ejer37.ipynb#W0sZmlsZQ%3D%3D?line=7'>8</a>\u001b[0m         fac\u001b[39m.\u001b[39minsert(x, y)\n",
      "\u001b[1;31mTypeError\u001b[0m: 'int' object is not iterable"
     ]
    }
   ],
   "source": [
    "fac = list()\n",
    "y = 1\n",
    "def factorial(a):\n",
    "\n",
    "    for x in a:\n",
    "\n",
    "        y *= x\n",
    "        fac.insert(x, y)\n",
    "        return fac\n",
    "\n",
    "factores = factorial(5)\n",
    "print(factores)"
   ]
  }
 ],
 "metadata": {
  "kernelspec": {
   "display_name": "Python 3",
   "language": "python",
   "name": "python3"
  },
  "language_info": {
   "codemirror_mode": {
    "name": "ipython",
    "version": 3
   },
   "file_extension": ".py",
   "mimetype": "text/x-python",
   "name": "python",
   "nbconvert_exporter": "python",
   "pygments_lexer": "ipython3",
   "version": "3.11.5"
  },
  "orig_nbformat": 4
 },
 "nbformat": 4,
 "nbformat_minor": 2
}
