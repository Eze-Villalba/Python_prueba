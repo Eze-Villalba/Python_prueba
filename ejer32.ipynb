{
 "cells": [
  {
   "cell_type": "code",
   "execution_count": 2,
   "metadata": {},
   "outputs": [
    {
     "name": "stdout",
     "output_type": "stream",
     "text": [
      "el maximo ingresado es 99 y el minimo -45\n",
      " Tus numeros ingresados son [43, 5, 3, 65, -6, -45, 99, 23]\n"
     ]
    }
   ],
   "source": [
    "# Un programa que lea numeros enteros hasta teclear 0. Al finalizar debe mostrar el max y el min\n",
    "\n",
    "lista = []\n",
    "num = int(input(\"Ingrese el numero\"))\n",
    "\n",
    "while num != 0:\n",
    "\n",
    "    lista.append(num)\n",
    "    num = int(input(\"Ingrse el numero\"))\n",
    "\n",
    "maximo = max(lista)    \n",
    "minimo = min(lista)\n",
    "\n",
    "print(f\"el maximo ingresado es {maximo} y el minimo {minimo}\\n Tus numeros ingresados son {lista}\")\n"
   ]
  }
 ],
 "metadata": {
  "kernelspec": {
   "display_name": "Python 3",
   "language": "python",
   "name": "python3"
  },
  "language_info": {
   "codemirror_mode": {
    "name": "ipython",
    "version": 3
   },
   "file_extension": ".py",
   "mimetype": "text/x-python",
   "name": "python",
   "nbconvert_exporter": "python",
   "pygments_lexer": "ipython3",
   "version": "3.11.5"
  },
  "orig_nbformat": 4
 },
 "nbformat": 4,
 "nbformat_minor": 2
}
