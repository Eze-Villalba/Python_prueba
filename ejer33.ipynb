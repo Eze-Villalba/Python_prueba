{
 "cells": [
  {
   "cell_type": "code",
   "execution_count": 14,
   "metadata": {},
   "outputs": [
    {
     "name": "stdout",
     "output_type": "stream",
     "text": [
      "Le pegaste a la primera, muy bien\n"
     ]
    }
   ],
   "source": [
    "import random\n",
    "\n",
    "num_aleatorio = random.randint(1,10)\n",
    "\n",
    "num_del_jugador = int(input(\"ingrese un numero entre 1 y 10\"))\n",
    "\n",
    "if num_del_jugador != num_aleatorio:\n",
    "\n",
    "    while num_del_jugador != num_aleatorio:\n",
    "\n",
    "       if num_del_jugador > num_aleatorio:\n",
    "\n",
    "          menor = \"El numero que buscas es menor :)\"\n",
    "\n",
    "          num_del_jugador = int(input(f\"{menor} ingresa otro numero\"))\n",
    "\n",
    "       elif num_del_jugador < num_aleatorio:\n",
    "\n",
    "          mayor = \"El numero que buscas es mayor (:\"\n",
    "\n",
    "          num_del_jugador = int(input(f\"{mayor} ingresa otro numero\"))\n",
    "    \n",
    "    print(f\"Ganaste el numero es {num_del_jugador}\")\n",
    "\n",
    "elif num_del_jugador == num_aleatorio:\n",
    "   \n",
    "   print(f\"Le pegaste a la primera, muy bien. El numero es {num_aleatorio}\")    \n",
    "\n",
    "\n"
   ]
  }
 ],
 "metadata": {
  "kernelspec": {
   "display_name": "Python 3",
   "language": "python",
   "name": "python3"
  },
  "language_info": {
   "codemirror_mode": {
    "name": "ipython",
    "version": 3
   },
   "file_extension": ".py",
   "mimetype": "text/x-python",
   "name": "python",
   "nbconvert_exporter": "python",
   "pygments_lexer": "ipython3",
   "version": "3.11.5"
  },
  "orig_nbformat": 4
 },
 "nbformat": 4,
 "nbformat_minor": 2
}
