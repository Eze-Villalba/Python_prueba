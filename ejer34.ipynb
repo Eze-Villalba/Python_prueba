{
 "cells": [
  {
   "cell_type": "code",
   "execution_count": 12,
   "metadata": {},
   "outputs": [
    {
     "name": "stdout",
     "output_type": "stream",
     "text": [
      "h o l a   \n"
     ]
    }
   ],
   "source": [
    "frase = input(\"Ingresa una frase\")\n",
    "frase_lista = list(frase)\n",
    "letra_conespacio = \"\"\n",
    "\n",
    "for letra in frase_lista:\n",
    "\n",
    "    letra_conespacio += f\"{letra} \"\n",
    "\n",
    "print(letra_conespacio)\n"
   ]
  }
 ],
 "metadata": {
  "language_info": {
   "name": "python"
  },
  "orig_nbformat": 4
 },
 "nbformat": 4,
 "nbformat_minor": 2
}
